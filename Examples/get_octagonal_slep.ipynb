{
 "cells": [
  {
   "cell_type": "markdown",
   "id": "4a6be2f0",
   "metadata": {},
   "source": [
    "# Cartesian Slepian Sequences\n",
    "\n",
    "This notebook is a simplified version of Slepians.jl/Examples/05_Cartesian_Slepians.ipynb"
   ]
  },
  {
   "cell_type": "code",
   "execution_count": 1,
   "id": "94406e45",
   "metadata": {},
   "outputs": [
    {
     "name": "stderr",
     "output_type": "stream",
     "text": [
      "┌ Info: Precompiling Slepians [97caf2bd-9cc0-4738-8821-c8999f46f3c9]\n",
      "└ @ Base loading.jl:1278\n",
      "┌ Warning: Package Slepians does not have Statistics in its dependencies:\n",
      "│ - If you have Slepians checked out for development and have\n",
      "│   added Statistics as a dependency but haven't updated your primary\n",
      "│   environment's manifest file, try `Pkg.resolve()`.\n",
      "│ - Otherwise you may need to report an issue with Slepians\n",
      "└ Loading Statistics into Slepians from project dependency, future warnings for Slepians are suppressed.\n"
     ]
    }
   ],
   "source": [
    "using Slepians, FastGaussQuadrature\n",
    "using Plots, FFTW"
   ]
  },
  {
   "cell_type": "markdown",
   "id": "1f2bf6d4",
   "metadata": {},
   "source": [
    "## 3D Octagonal Prism\n",
    "\n",
    "Extending into the third dimension, we can add more nodes. As mentioned before, this code will work in higher dimensions as well. "
   ]
  },
  {
   "cell_type": "code",
   "execution_count": 7,
   "id": "ab88d878",
   "metadata": {},
   "outputs": [],
   "source": [
    "M = 4; Kp = 10.0; szs = (16,16,16)\n",
    "int = (51, 51, 51)\n",
    "nowtv = [FastGaussQuadrature.gausslegendre(nj) for nj in szs]\n",
    "\n",
    "lbfun(x) = (x >= 0) * max(-sqrt(2) + x, -1) + (x < 0) * max(-sqrt(2) - x, -1)\n",
    "\n",
    "no    = [(x, lbfun(x)*y, z) for x in nowtv[1][1] for y in nowtv[2][1] for z in nowtv[3][1]];\n",
    "\n",
    "using Profile"
   ]
  },
  {
   "cell_type": "code",
   "execution_count": 8,
   "id": "b45e5975",
   "metadata": {},
   "outputs": [],
   "source": [
    "# scatter(no, camera = (60, 60))"
   ]
  },
  {
   "cell_type": "code",
   "execution_count": 10,
   "id": "e108a13b",
   "metadata": {},
   "outputs": [
    {
     "name": "stderr",
     "output_type": "stream",
     "text": [
      "WARNING: profiler attempt to access an invalid memory location\n"
     ]
    }
   ],
   "source": [
    "# Compute the Slepians on this basis\n",
    "lvl = 6\n",
    "maxrank = 128\n",
    "@time s, sleps = customsleps(M, Kp, szs, no = no, sqwt = givewts(nowtv), int = int, \n",
    "    exact = false, lvl = lvl, maxrank = maxrank);"
   ]
  },
  {
   "cell_type": "code",
   "execution_count": 11,
   "id": "05b3303e",
   "metadata": {},
   "outputs": [],
   "source": [
    "using HDF5\n",
    "\n",
    "A = collect(reshape(1:120, 15, 8))\n",
    "\n",
    "h5open(\"slep100.h5\", \"w\") do file\n",
    "    write(file, \"s\", s)  \n",
    "    write(file, \"M\", M)  \n",
    "    write(file, \"Kp\", Kp)\n",
    "    write(file, \"szs\", szs)\n",
    "    for i in 1:M\n",
    "        write(file, \"slep$i\", sleps[i])\n",
    "    end\n",
    "end"
   ]
  },
  {
   "cell_type": "code",
   "execution_count": 6,
   "id": "466ffbe2",
   "metadata": {},
   "outputs": [],
   "source": [
    "#=\n",
    "# To read in the file:\n",
    "filename = \"slep100.h5\"\n",
    "using HDF5 \n",
    "\n",
    "M = h5open(filename, \"r\") do file\n",
    "    read(file, \"M\")\n",
    "end\n",
    "\n",
    "s = h5open(filename, \"r\") do file\n",
    "    read(file, \"s\")\n",
    "end\n",
    "\n",
    "sleps = h5open(filename, \"r\") do file\n",
    "    map(i -> read(file, \"slep$i\"), 1:M)\n",
    "end\n",
    "=#"
   ]
  },
  {
   "cell_type": "code",
   "execution_count": null,
   "id": "4e4f24bd",
   "metadata": {},
   "outputs": [],
   "source": []
  }
 ],
 "metadata": {
  "kernelspec": {
   "display_name": "Julia 1.5.4",
   "language": "julia",
   "name": "julia-1.5"
  },
  "language_info": {
   "file_extension": ".jl",
   "mimetype": "application/julia",
   "name": "julia",
   "version": "1.5.4"
  }
 },
 "nbformat": 4,
 "nbformat_minor": 5
}
