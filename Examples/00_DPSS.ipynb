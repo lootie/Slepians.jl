{
 "cells": [
  {
   "cell_type": "markdown",
   "metadata": {},
   "source": [
    "# Discrete prolate spheroidal sequences\n",
    "\n",
    "The discrete prolate spheroidal sequences (Slepian, 1978), $v_n^{(k)}(N,W)$, are the eigenvector solutions to the eigenvalue problem\n",
    "\n",
    "$$\\sum_{m = 0}^{N-1}\\frac{\\sin 2\\pi W(n-m)}{\\pi(n-m)}v_m^{(k)}(N,W) = \\lambda_k(N,W)\\cdot v_n^{(k)}(N,W)$$\n",
    "\n",
    "where $N$ is the length of the sequence, $n = 0, \\ldots, N-1$, $W$ is the bandwidth, $K$ is the number of tapers, and $\\lambda_k(N,W)$ is the eigenvalue corresponding to the $k$th taper. \n",
    "\n",
    "The dpss's solve the problem of concentrating, in frequency, the most amount of mass under the interval $(-W,W)$, while having only finite extent in time. \n",
    "\n",
    "In Slepians.jl, the dpss's are computed in the following way."
   ]
  },
  {
   "cell_type": "code",
   "execution_count": null,
   "metadata": {},
   "outputs": [],
   "source": [
    "using Slepians, FFTW, Plots\n",
    "\n",
    "N = 1024\n",
    "\n",
    "paddedlen = N*8\n",
    "halffreq = Int64(paddedlen/2+1)\n",
    "freq = LinRange(0,1.0,paddedlen+1)[1:paddedlen]"
   ]
  },
  {
   "cell_type": "code",
   "execution_count": null,
   "metadata": {
    "ExecuteTime": {
     "end_time": "2020-10-29T20:30:20.234000-05:00",
     "start_time": "2020-10-30T01:30:20.162Z"
    }
   },
   "outputs": [],
   "source": [
    "N     = 1024\n",
    "NW    = 4.0 \n",
    "K     = 8\n",
    "v,lam = dpss_tapers(N, NW, K, :both)\n",
    "\n",
    "plot(-512:511, v, label = lam', xlabel = \"Index\", title = \"DPSS's sorted by concentration\")"
   ]
  },
  {
   "cell_type": "markdown",
   "metadata": {},
   "source": [
    "The very first dpss taper has the largest \"concentration\" in the bandwidth of interest, very close to one. Subsequent tapers are less and less concentrated. To see this, plot their Fourier transforms as below. We zero pad, as before, to interpolate structure in frequency."
   ]
  },
  {
   "cell_type": "code",
   "execution_count": null,
   "metadata": {
    "ExecuteTime": {
     "end_time": "2020-10-29T20:24:26.367000-05:00",
     "start_time": "2020-10-30T01:21:17.945Z"
    }
   },
   "outputs": [],
   "source": [
    "M        = 4*N\n",
    "U        = mapreduce(x -> fft(vcat(x,zeros(M-N))), hcat, v[:,k] for k in 1:K)\n",
    "halffreq = Int64(M/2+1)\n",
    "freq     = range(0, 1,length = M+1)[1:halffreq]\n",
    "\n",
    "plot(freq[2:end], abs2.(U)[2:halffreq,:], \n",
    "    label = lam', yscale = :log10, xscale = :log10,\n",
    "    xlabel = \"Frequency (Hz)\", \n",
    "    title = \"Slepian functions\",\n",
    "    ylabel = \"Squared magnitude response \\n sorted by concentration\",\n",
    "    legend = :bottomleft)\n",
    "\n",
    "plot!((NW/N)*ones(2), [1e-30, 1e3], label=\"W\", line = :dash)"
   ]
  },
  {
   "cell_type": "markdown",
   "metadata": {},
   "source": [
    "One can see that the bulk of the mass under each of the curves is on the interval (-W,W). \n",
    "It is also easy to see that as the concentration, lambda, decreases, there is less mass under\n",
    "the curve inside the band. Since the sequences all have unit energy, there is more mass outside\n",
    "the band for larger index. Comparing with the tapers in the first plot, we see the power drop off rather quickly outside the band (-W, W) of interest. \n",
    "\n",
    "The bandwidth, $W$, is a tuning parameter for the multitaper method, and one adjusts the bandwidth by selecting the time-bandwidth product <tt>NW</tt> above. The number of tapers, $K$, is selected to be less than $2NW$, as the concentration rapidly drops with increasing $k$. For further reading, consult the original paper cited below. "
   ]
  },
  {
   "cell_type": "markdown",
   "metadata": {},
   "source": [
    "# References\n",
    "\n",
    "Slepian, David. \"Prolate spheroidal wave functions, Fourier analysis, and uncertainty—V: The discrete case.\" Bell System Technical Journal 57.5 (1978): 1371-1430."
   ]
  },
  {
   "cell_type": "code",
   "execution_count": null,
   "metadata": {},
   "outputs": [],
   "source": []
  }
 ],
 "metadata": {
  "@webio": {
   "lastCommId": null,
   "lastKernelId": null
  },
  "kernelspec": {
   "display_name": "Julia 1.5.4",
   "language": "julia",
   "name": "julia-1.5"
  },
  "language_info": {
   "file_extension": ".jl",
   "mimetype": "application/julia",
   "name": "julia",
   "version": "1.5.4"
  },
  "toc": {
   "base_numbering": 1,
   "nav_menu": {},
   "number_sections": true,
   "sideBar": true,
   "skip_h1_title": false,
   "title_cell": "Table of Contents",
   "title_sidebar": "Contents",
   "toc_cell": false,
   "toc_position": {},
   "toc_section_display": true,
   "toc_window_display": false
  }
 },
 "nbformat": 4,
 "nbformat_minor": 2
}
